{
  "cells": [
    {
      "cell_type": "markdown",
      "metadata": {
        "id": "view-in-github",
        "colab_type": "text"
      },
      "source": [
        "<a href=\"https://colab.research.google.com/github/SaraCoelhoCosta/CursosOnline/blob/main/IoT%20e%20Machine%20Learning%20na%20Pr%C3%A1tica/DeepSpeech.ipynb\" target=\"_parent\"><img src=\"https://colab.research.google.com/assets/colab-badge.svg\" alt=\"Open In Colab\"/></a>"
      ]
    },
    {
      "cell_type": "markdown",
      "metadata": {
        "id": "3KUlO4oiA8CM"
      },
      "source": [
        "# Reconhecimento de fala com DeepSpeech\n",
        "\n",
        "Este notebook usa um projeto de código aberto [mozilla/DeepSpeech](https://github.com/mozilla/DeepSpeech) para transcrever um determinado vídeo do youtube.\n",
        "\n",
        "Para outros notebooks Colab de aprendizado profundo, visite [tugstugi/dl-colab-notebooks](https://github.com/tugstugi/dl-colab-notebooks).\n",
        "\n",
        "\n",
        "## Instale o DeepSpeech"
      ]
    },
    {
      "cell_type": "code",
      "execution_count": null,
      "metadata": {
        "id": "4OAYywPHApuz"
      },
      "outputs": [],
      "source": [
        "#@title\n",
        "import os\n",
        "from os.path import exists, join, basename, splitext\n",
        "\n",
        "if not exists('deepspeech-0.6.1-models'):\n",
        "  !apt-get install -qq sox\n",
        "  !pip install -q deepspeech-gpu==0.6.1 youtube-dl\n",
        "  !wget https://github.com/mozilla/DeepSpeech/releases/download/v0.6.1/deepspeech-0.6.1-models.tar.gz\n",
        "  !tar xvfz deepspeech-0.6.1-models.tar.gz\n",
        "  \n",
        "from IPython.display import YouTubeVideo"
      ]
    },
    {
      "cell_type": "markdown",
      "metadata": {
        "id": "95JShwLGB43D"
      },
      "source": [
        "## Transcribe Youtube Video\n",
        "\n",
        "We are going to make speech recognition on the following youtube video:"
      ]
    },
    {
      "cell_type": "code",
      "execution_count": null,
      "metadata": {
        "id": "tPAof_X3A6ZE"
      },
      "outputs": [],
      "source": [
        "YOUTUBE_ID = '2AFpAATHXtc'\n",
        "\n",
        "\n",
        "YouTubeVideo(YOUTUBE_ID)"
      ]
    },
    {
      "cell_type": "markdown",
      "metadata": {
        "id": "pCVbBWEaB5cV"
      },
      "source": [
        "Download the above video, convert to a WAV file and do speech recognition:"
      ]
    },
    {
      "cell_type": "code",
      "execution_count": null,
      "metadata": {
        "id": "fZwM0GtmA7mX"
      },
      "outputs": [],
      "source": [
        "!rm -rf *.wav\n",
        "!youtube-dl --extract-audio --audio-format wav --output \"test.%(ext)s\" https://www.youtube.com/watch\\?v\\={YOUTUBE_ID}\n",
        "!deepspeech --model deepspeech-0.6.1-models/output_graph.pbmm --lm deepspeech-0.6.1-models/lm.binary --trie deepspeech-0.6.1-models/trie --audio test.wav"
      ]
    }
  ],
  "metadata": {
    "accelerator": "GPU",
    "colab": {
      "collapsed_sections": [],
      "provenance": [],
      "include_colab_link": true
    },
    "kernelspec": {
      "display_name": "Python 3",
      "name": "python3"
    }
  },
  "nbformat": 4,
  "nbformat_minor": 0
}
